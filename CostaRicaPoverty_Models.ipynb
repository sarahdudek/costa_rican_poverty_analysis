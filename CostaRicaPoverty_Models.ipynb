{
 "cells": [
  {
   "cell_type": "code",
   "execution_count": 1,
   "metadata": {},
   "outputs": [],
   "source": [
    "import pandas as pd"
   ]
  },
  {
   "cell_type": "code",
   "execution_count": 2,
   "metadata": {},
   "outputs": [],
   "source": [
    "data = pd.read_csv('train_clean_new_columns.csv')"
   ]
  },
  {
   "cell_type": "code",
   "execution_count": 3,
   "metadata": {},
   "outputs": [],
   "source": [
    "from sklearn.decomposition import PCA"
   ]
  },
  {
   "cell_type": "code",
   "execution_count": 9,
   "metadata": {},
   "outputs": [],
   "source": [
    "#Insert SKLearn Metrics\n",
    "\n",
    "from sklearn.ensemble import RandomForestClassifier\n",
    "from sklearn.metrics import f1_score, make_scorer\n",
    "from sklearn.model_selection import cross_val_score\n",
    "from sklearn.preprocessing import MinMaxScaler\n",
    "from sklearn.pipeline import Pipeline\n",
    "from sklearn.impute import SimpleImputer"
   ]
  },
  {
   "cell_type": "code",
   "execution_count": 5,
   "metadata": {},
   "outputs": [],
   "source": [
    "import numpy as np"
   ]
  },
  {
   "cell_type": "code",
   "execution_count": 6,
   "metadata": {},
   "outputs": [],
   "source": [
    "#Create Indicators\n",
    "\n",
    "train_labels = np.array(list(data[data['target'].notnull()]['target'].astype(np.uint8)))"
   ]
  },
  {
   "cell_type": "code",
   "execution_count": 7,
   "metadata": {},
   "outputs": [],
   "source": [
    "#Create Train Set, drop strings / labels\n",
    "\n",
    "train_set = data[data['target'].notnull()].drop(columns = ['household_id', 'id', 'target'])"
   ]
  },
  {
   "cell_type": "code",
   "execution_count": 10,
   "metadata": {},
   "outputs": [],
   "source": [
    "#Scale Data\n",
    "\n",
    "features = list(train_set.columns)\n",
    "\n",
    "pipeline = Pipeline([('imputer', SimpleImputer(strategy = 'median')), \n",
    "                      ('scaler', MinMaxScaler())])\n",
    "\n",
    "train_set = pipeline.fit_transform(train_set)"
   ]
  },
  {
   "cell_type": "code",
   "execution_count": 11,
   "metadata": {},
   "outputs": [],
   "source": [
    "#Create F1 Score\n",
    "\n",
    "scorer = make_scorer(f1_score, greater_is_better=True, average = 'macro')"
   ]
  },
  {
   "cell_type": "code",
   "execution_count": 12,
   "metadata": {},
   "outputs": [],
   "source": [
    "#Import Models SK_Learn\n",
    "\n",
    "from sklearn.svm import LinearSVC\n",
    "from sklearn.naive_bayes import GaussianNB\n",
    "from sklearn.neural_network import MLPClassifier\n",
    "from sklearn.linear_model import LogisticRegressionCV, RidgeClassifierCV\n",
    "from sklearn.discriminant_analysis import LinearDiscriminantAnalysis\n",
    "from sklearn.neighbors import KNeighborsClassifier\n",
    "\n",
    "#Source: https://github.com/WillKoehrsen/data-science-for-good/blob/master/costa-rican-poverty/A%20Complete%20Walkthrough.ipynb"
   ]
  },
  {
   "cell_type": "code",
   "execution_count": 13,
   "metadata": {},
   "outputs": [],
   "source": [
    "#Balance Data - Install\n",
    "\n",
    "from collections import Counter\n",
    "\n",
    "from imblearn.over_sampling import SMOTE"
   ]
  },
  {
   "cell_type": "code",
   "execution_count": 14,
   "metadata": {},
   "outputs": [
    {
     "name": "stdout",
     "output_type": "stream",
     "text": [
      "Original dataset shape Counter({4: 1954, 2: 442, 3: 355, 1: 222})\n",
      "Resampled dataset shape Counter({4: 1954, 2: 1954, 3: 1954, 1: 1954})\n"
     ]
    }
   ],
   "source": [
    "#Balance Data, and verify our new tables are balanced\n",
    "\n",
    "print('Original dataset shape %s' % Counter(np.ravel(train_labels)))\n",
    "\n",
    "sm = SMOTE(random_state=42)\n",
    "\n",
    "X_res, y_res = sm.fit_resample(train_set, np.ravel(train_labels))\n",
    "\n",
    "print('Resampled dataset shape %s' % Counter(y_res))"
   ]
  },
  {
   "cell_type": "code",
   "execution_count": 15,
   "metadata": {},
   "outputs": [],
   "source": [
    "#Function to loop through model types\n",
    "\n",
    "model_results_balanced = pd.DataFrame(columns = ['model', 'cv_mean', 'cv_std'])\n",
    "\n",
    "def cv_model(train, train_labels, model, name, model_results_balanced=None):\n",
    "    \"\"\"Perform 10 fold cross validation of a model\"\"\"\n",
    "\n",
    "    cv_scores = cross_val_score(model, train, train_labels, cv = 10, scoring=scorer, n_jobs = -1)\n",
    "    print(f'10 Fold CV Score: {round(cv_scores.mean(), 5)} with std: {round(cv_scores.std(), 5)}')\n",
    "    \n",
    "    if model_results_balanced is not None:\n",
    "        model_results_balanced = model_results_balanced.append(pd.DataFrame({'model': name, \n",
    "                                                           'cv_mean': cv_scores.mean(), \n",
    "                                                            'cv_std': cv_scores.std()},\n",
    "                                                           index = [0]),\n",
    "                                             ignore_index = True)\n",
    "\n",
    "        return model_results_balanced"
   ]
  },
  {
   "cell_type": "code",
   "execution_count": 16,
   "metadata": {},
   "outputs": [
    {
     "name": "stdout",
     "output_type": "stream",
     "text": [
      "10 Fold CV Score: 0.52966 with std: 0.02111\n"
     ]
    }
   ],
   "source": [
    "#balanced Linear Support Vector Classiciation\n",
    "\n",
    "model_results_balanced = cv_model(X_res, y_res, LinearSVC(), \n",
    "                         'LSVC', model_results_balanced)"
   ]
  },
  {
   "cell_type": "code",
   "execution_count": 17,
   "metadata": {},
   "outputs": [
    {
     "name": "stdout",
     "output_type": "stream",
     "text": [
      "10 Fold CV Score: 0.20135 with std: 0.01433\n"
     ]
    }
   ],
   "source": [
    "#balanced Gaussian Naive Bayes\n",
    "\n",
    "model_results_balanced = cv_model(X_res, y_res, \n",
    "                         GaussianNB(), 'GNB', model_results_balanced)"
   ]
  },
  {
   "cell_type": "code",
   "execution_count": 18,
   "metadata": {},
   "outputs": [
    {
     "name": "stdout",
     "output_type": "stream",
     "text": [
      "10 Fold CV Score: 0.89855 with std: 0.02729\n"
     ]
    }
   ],
   "source": [
    "#balanced Neural Network Multi Layer Perceptor\n",
    "\n",
    "model_results_balanced = cv_model(X_res, y_res, \n",
    "                         MLPClassifier(hidden_layer_sizes=(32, 64, 128, 64, 32)),\n",
    "                         'MLP', model_results_balanced)"
   ]
  },
  {
   "cell_type": "code",
   "execution_count": 19,
   "metadata": {},
   "outputs": [
    {
     "name": "stdout",
     "output_type": "stream",
     "text": [
      "10 Fold CV Score: 0.53967 with std: 0.02097\n"
     ]
    }
   ],
   "source": [
    "#balanced LDA\n",
    "\n",
    "model_results_balanced = cv_model(X_res, y_res, \n",
    "                          LinearDiscriminantAnalysis(), \n",
    "                          'LDA', model_results_balanced)"
   ]
  },
  {
   "cell_type": "code",
   "execution_count": 20,
   "metadata": {},
   "outputs": [
    {
     "name": "stdout",
     "output_type": "stream",
     "text": [
      "10 Fold CV Score: 0.52571 with std: 0.01838\n"
     ]
    }
   ],
   "source": [
    "#balanced Ridge\n",
    "\n",
    "model_results_balanced = cv_model(X_res, y_res, \n",
    "                         RidgeClassifierCV(), 'RIDGE', model_results_balanced)"
   ]
  },
  {
   "cell_type": "code",
   "execution_count": 21,
   "metadata": {},
   "outputs": [
    {
     "name": "stdout",
     "output_type": "stream",
     "text": [
      "\n",
      "KNN with 5 neighbors\n",
      "\n",
      "10 Fold CV Score: 0.81774 with std: 0.01933\n",
      "\n",
      "KNN with 10 neighbors\n",
      "\n",
      "10 Fold CV Score: 0.75978 with std: 0.02433\n",
      "\n",
      "KNN with 20 neighbors\n",
      "\n",
      "10 Fold CV Score: 0.67379 with std: 0.04323\n"
     ]
    }
   ],
   "source": [
    "#balanced K Nearest Neighbors\n",
    "\n",
    "for n in [5, 10, 20]:\n",
    "    print(f'\\nKNN with {n} neighbors\\n')\n",
    "    model_results_balanced = cv_model(X_res, y_res, \n",
    "                             KNeighborsClassifier(n_neighbors = n),\n",
    "                             f'knn-{n}', model_results_balanced)"
   ]
  },
  {
   "cell_type": "code",
   "execution_count": 22,
   "metadata": {},
   "outputs": [
    {
     "name": "stdout",
     "output_type": "stream",
     "text": [
      "10 Fold CV Score: 0.91246 with std: 0.07424\n"
     ]
    }
   ],
   "source": [
    "#balanced Random Forest\n",
    "\n",
    "model_results_balanced = cv_model(X_res, y_res,\n",
    "                          RandomForestClassifier(100, random_state=10),\n",
    "                              'RF', model_results_balanced)"
   ]
  },
  {
   "cell_type": "code",
   "execution_count": 24,
   "metadata": {},
   "outputs": [],
   "source": [
    "#import visulization programs\n",
    "\n",
    "import matplotlib.pyplot as plt\n",
    "import seaborn as sns"
   ]
  },
  {
   "cell_type": "code",
   "execution_count": 28,
   "metadata": {},
   "outputs": [],
   "source": [
    "#move row name to columns\n",
    "\n",
    "model_results_balanced.index.name = 'model'\n",
    "model_results_balanced.reset_index(inplace=True)"
   ]
  },
  {
   "cell_type": "code",
   "execution_count": 29,
   "metadata": {},
   "outputs": [
    {
     "data": {
      "image/png": "[encoded data removed]",
      "text/plain": [
       "<Figure size 576x432 with 1 Axes>"
      ]
     },
     "metadata": {
      "needs_background": "light"
     },
     "output_type": "display_data"
    }
   ],
   "source": [
    "#Create F-1 Score Bar Chart\n",
    "\n",
    "model_results_balanced.set_index('model', inplace = True)\n",
    "model_results_balanced['cv_mean'].plot.bar(color = 'orange', figsize = (8, 6),\n",
    "                                  yerr = list(model_results_balanced['cv_std']),\n",
    "                                  edgecolor = 'k', linewidth = 2)\n",
    "plt.title('Model F1 Score Results');\n",
    "plt.ylabel('Mean F1 Score (with error bar)');"
   ]
  },
  {
   "cell_type": "code",
   "execution_count": 30,
   "metadata": {},
   "outputs": [
    {
     "name": "stdout",
     "output_type": "stream",
     "text": [
      "         cv_mean    cv_std\n",
      "model                     \n",
      "LSVC    0.529661  0.021106\n",
      "GNB     0.201345  0.014327\n",
      "MLP     0.898547  0.027286\n",
      "LDA     0.539673  0.020975\n",
      "RIDGE   0.525709  0.018382\n",
      "knn-5   0.817741  0.019335\n",
      "knn-10  0.759778  0.024326\n",
      "knn-20  0.673795  0.043226\n",
      "RF      0.912460  0.074239\n"
     ]
    }
   ],
   "source": [
    "#Results in table view\n",
    "\n",
    "print(model_results_balanced)"
   ]
  },
  {
   "cell_type": "code",
   "execution_count": null,
   "metadata": {},
   "outputs": [],
   "source": []
  }
 ],
 "metadata": {
  "kernelspec": {
   "display_name": "Python 3",
   "language": "python",
   "name": "python3"
  },
  "language_info": {
   "codemirror_mode": {
    "name": "ipython",
    "version": 3
   },
   "file_extension": ".py",
   "mimetype": "text/x-python",
   "name": "python",
   "nbconvert_exporter": "python",
   "pygments_lexer": "ipython3",
   "version": "3.7.1"
  }
 },
 "nbformat": 4,
 "nbformat_minor": 2
}
