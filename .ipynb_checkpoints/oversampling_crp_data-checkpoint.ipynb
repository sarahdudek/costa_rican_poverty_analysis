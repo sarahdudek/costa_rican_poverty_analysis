{
 "cells": [
  {
   "cell_type": "code",
   "execution_count": 49,
   "metadata": {},
   "outputs": [],
   "source": [
    "# to perform over sampling to handle the imbalance in the data\n",
    "import pandas as pd\n",
    "import numpy as np\n",
    "from collections import Counter\n",
    "from imblearn.over_sampling import SMOTE\n",
    "from pprint import pprint"
   ]
  },
  {
   "cell_type": "code",
   "execution_count": 42,
   "metadata": {},
   "outputs": [
    {
     "name": "stdout",
     "output_type": "stream",
     "text": [
      "     household_id            id  rent_monthly  bedrooms_overcrowding  rooms  \\\n",
      "0       001ff74ca  ID_654683e33           0.0                      0      6   \n",
      "1       003123ec2  ID_5bef9b553           0.0                      0      3   \n",
      "2         4616164  ID_ca701e058           0.0                      0      4   \n",
      "3         4983866  ID_1e320689c           0.0                      0      5   \n",
      "4         5905417  ID_308a05a16           0.0                      0      8   \n",
      "...           ...           ...           ...                    ...    ...   \n",
      "2968    ff9343a35  ID_ac4dbecf6           0.0                      0      5   \n",
      "2969    ff9d5ab17  ID_9f3c6cca3      150000.0                      0      5   \n",
      "2970    ffae4a097  ID_91f4eb552           0.0                      0      3   \n",
      "2971    ffe90d46f  ID_3ffd59f63           0.0                      0      4   \n",
      "2972    fff7d6be1  ID_48bad74d9           0.0                      0      4   \n",
      "\n",
      "      rooms_overcrowding  has_toilet  has_fridge  tablets_owned_count  \\\n",
      "0                      0           1           1                    1   \n",
      "1                      0           1           1                    0   \n",
      "2                      0           1           1                    0   \n",
      "3                      0           1           1                    0   \n",
      "4                      0           1           0                    0   \n",
      "...                  ...         ...         ...                  ...   \n",
      "2968                   0           1           1                    1   \n",
      "2969                   0           1           1                    0   \n",
      "2970                   0           1           1                    0   \n",
      "2971                   0           1           1                    0   \n",
      "2972                   0           1           1                    0   \n",
      "\n",
      "      males_under_12  ...  reg_paccentral  reg_brunca  reg_huetaratl  \\\n",
      "0                  0  ...               0           1              0   \n",
      "1                  2  ...               0           0              1   \n",
      "2                  0  ...               0           0              0   \n",
      "3                  0  ...               1           0              0   \n",
      "4                  1  ...               0           1              0   \n",
      "...              ...  ...             ...         ...            ...   \n",
      "2968               0  ...               0           0              0   \n",
      "2969               0  ...               0           0              1   \n",
      "2970               0  ...               0           0              0   \n",
      "2971               1  ...               0           0              0   \n",
      "2972               0  ...               0           0              0   \n",
      "\n",
      "      reg_huetarnor  zone_urban  zone_rural  age  target  dis_cnt   mean_age  \n",
      "0                 0           0           1   38       4        0  19.000000  \n",
      "1                 0           1           0   24       2        0  12.750000  \n",
      "2                 0           0           1   50       2        0  33.000000  \n",
      "3                 0           1           0   59       3        0  37.500000  \n",
      "4                 0           0           1   32       2        0  17.333333  \n",
      "...             ...         ...         ...  ...     ...      ...        ...  \n",
      "2968              0           1           0   54       4        0  39.500000  \n",
      "2969              0           1           0   32       4        0  19.666667  \n",
      "2970              1           0           1   68       4        0  61.000000  \n",
      "2971              1           0           1   50       1        0  31.250000  \n",
      "2972              0           1           0   74       4        0  56.000000  \n",
      "\n",
      "[2973 rows x 120 columns]\n"
     ]
    }
   ],
   "source": [
    "data = pd.read_csv('crp_data.csv')\n",
    "print(data)"
   ]
  },
  {
   "cell_type": "code",
   "execution_count": 43,
   "metadata": {},
   "outputs": [],
   "source": [
    "# save indicator variable\n",
    "target = np.ravel(data['target'])"
   ]
  },
  {
   "cell_type": "code",
   "execution_count": 45,
   "metadata": {},
   "outputs": [],
   "source": [
    "# drop columns that aren't strictly numeric\n",
    "data.drop(columns = (['household_id','id']), inplace=True)"
   ]
  },
  {
   "cell_type": "code",
   "execution_count": 46,
   "metadata": {},
   "outputs": [
    {
     "name": "stdout",
     "output_type": "stream",
     "text": [
      "Original dataset shape Counter({4: 1954, 2: 442, 3: 355, 1: 222})\n",
      "Resampled dataset shape Counter({4: 1954, 2: 1954, 3: 1954, 1: 1954})\n"
     ]
    }
   ],
   "source": [
    "print('Original dataset shape %s' % Counter(target))\n",
    "\n",
    "sm = SMOTE(random_state=42) # Synthetic Minority Oversampling Technique\n",
    "X_res, y_res = sm.fit_resample(data, target) # meat of oversampling (correction)\n",
    "\n",
    "print('Resampled dataset shape %s' % Counter(y_res))"
   ]
  },
  {
   "cell_type": "code",
   "execution_count": 47,
   "metadata": {},
   "outputs": [],
   "source": [
    "# create two dataframes\n",
    "x_df = pd.DataFrame(X_res)\n",
    "y_df = pd.DataFrame(y_res)"
   ]
  },
  {
   "cell_type": "code",
   "execution_count": 48,
   "metadata": {},
   "outputs": [],
   "source": [
    "# export\n",
    "x_df.to_csv('pred_oversamp.csv', index=False)\n",
    "y_df.to_csv('ind_oversamp.csv', index=False)"
   ]
  }
 ],
 "metadata": {
  "kernelspec": {
   "display_name": "Python 3",
   "language": "python",
   "name": "python3"
  },
  "language_info": {
   "codemirror_mode": {
    "name": "ipython",
    "version": 3
   },
   "file_extension": ".py",
   "mimetype": "text/x-python",
   "name": "python",
   "nbconvert_exporter": "python",
   "pygments_lexer": "ipython3",
   "version": "3.7.4"
  }
 },
 "nbformat": 4,
 "nbformat_minor": 2
}
